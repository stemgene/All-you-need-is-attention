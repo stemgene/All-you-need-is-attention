{
  "nbformat": 4,
  "nbformat_minor": 0,
  "metadata": {
    "colab": {
      "provenance": [],
      "authorship_tag": "ABX9TyOCbgZ0zqUy4JfN6c53K2Fo",
      "include_colab_link": true
    },
    "kernelspec": {
      "name": "python3",
      "display_name": "Python 3"
    },
    "language_info": {
      "name": "python"
    },
    "widgets": {
      "application/vnd.jupyter.widget-state+json": {
        "97b0f85eb9d24253b0f07bd2dd83eb01": {
          "model_module": "@jupyter-widgets/controls",
          "model_name": "HBoxModel",
          "model_module_version": "1.5.0",
          "state": {
            "_dom_classes": [],
            "_model_module": "@jupyter-widgets/controls",
            "_model_module_version": "1.5.0",
            "_model_name": "HBoxModel",
            "_view_count": null,
            "_view_module": "@jupyter-widgets/controls",
            "_view_module_version": "1.5.0",
            "_view_name": "HBoxView",
            "box_style": "",
            "children": [
              "IPY_MODEL_3c563f617aa1459e882ef8fa21ebfa39",
              "IPY_MODEL_f373d57fba2644fa8fb492dd1b260783",
              "IPY_MODEL_9fae302253d0479b98b08999870cb728"
            ],
            "layout": "IPY_MODEL_6adabe04fd354bbab82d397406e4da3b"
          }
        },
        "3c563f617aa1459e882ef8fa21ebfa39": {
          "model_module": "@jupyter-widgets/controls",
          "model_name": "HTMLModel",
          "model_module_version": "1.5.0",
          "state": {
            "_dom_classes": [],
            "_model_module": "@jupyter-widgets/controls",
            "_model_module_version": "1.5.0",
            "_model_name": "HTMLModel",
            "_view_count": null,
            "_view_module": "@jupyter-widgets/controls",
            "_view_module_version": "1.5.0",
            "_view_name": "HTMLView",
            "description": "",
            "description_tooltip": null,
            "layout": "IPY_MODEL_1a0d355a04454c9694af96b73a36da69",
            "placeholder": "​",
            "style": "IPY_MODEL_b81de09a46f849d28a02654e7093a774",
            "value": "config.json: 100%"
          }
        },
        "f373d57fba2644fa8fb492dd1b260783": {
          "model_module": "@jupyter-widgets/controls",
          "model_name": "FloatProgressModel",
          "model_module_version": "1.5.0",
          "state": {
            "_dom_classes": [],
            "_model_module": "@jupyter-widgets/controls",
            "_model_module_version": "1.5.0",
            "_model_name": "FloatProgressModel",
            "_view_count": null,
            "_view_module": "@jupyter-widgets/controls",
            "_view_module_version": "1.5.0",
            "_view_name": "ProgressView",
            "bar_style": "success",
            "description": "",
            "description_tooltip": null,
            "layout": "IPY_MODEL_18be31dcd92a42b7bc1ed46c55bf3871",
            "max": 570,
            "min": 0,
            "orientation": "horizontal",
            "style": "IPY_MODEL_78645908e35b4e4686c3c6593bc765ef",
            "value": 570
          }
        },
        "9fae302253d0479b98b08999870cb728": {
          "model_module": "@jupyter-widgets/controls",
          "model_name": "HTMLModel",
          "model_module_version": "1.5.0",
          "state": {
            "_dom_classes": [],
            "_model_module": "@jupyter-widgets/controls",
            "_model_module_version": "1.5.0",
            "_model_name": "HTMLModel",
            "_view_count": null,
            "_view_module": "@jupyter-widgets/controls",
            "_view_module_version": "1.5.0",
            "_view_name": "HTMLView",
            "description": "",
            "description_tooltip": null,
            "layout": "IPY_MODEL_12245f13c734423bbd1a5b8f55b0b8fd",
            "placeholder": "​",
            "style": "IPY_MODEL_ba789986afd64feba7637942f6219396",
            "value": " 570/570 [00:00&lt;00:00, 19.2kB/s]"
          }
        },
        "6adabe04fd354bbab82d397406e4da3b": {
          "model_module": "@jupyter-widgets/base",
          "model_name": "LayoutModel",
          "model_module_version": "1.2.0",
          "state": {
            "_model_module": "@jupyter-widgets/base",
            "_model_module_version": "1.2.0",
            "_model_name": "LayoutModel",
            "_view_count": null,
            "_view_module": "@jupyter-widgets/base",
            "_view_module_version": "1.2.0",
            "_view_name": "LayoutView",
            "align_content": null,
            "align_items": null,
            "align_self": null,
            "border": null,
            "bottom": null,
            "display": null,
            "flex": null,
            "flex_flow": null,
            "grid_area": null,
            "grid_auto_columns": null,
            "grid_auto_flow": null,
            "grid_auto_rows": null,
            "grid_column": null,
            "grid_gap": null,
            "grid_row": null,
            "grid_template_areas": null,
            "grid_template_columns": null,
            "grid_template_rows": null,
            "height": null,
            "justify_content": null,
            "justify_items": null,
            "left": null,
            "margin": null,
            "max_height": null,
            "max_width": null,
            "min_height": null,
            "min_width": null,
            "object_fit": null,
            "object_position": null,
            "order": null,
            "overflow": null,
            "overflow_x": null,
            "overflow_y": null,
            "padding": null,
            "right": null,
            "top": null,
            "visibility": null,
            "width": null
          }
        },
        "1a0d355a04454c9694af96b73a36da69": {
          "model_module": "@jupyter-widgets/base",
          "model_name": "LayoutModel",
          "model_module_version": "1.2.0",
          "state": {
            "_model_module": "@jupyter-widgets/base",
            "_model_module_version": "1.2.0",
            "_model_name": "LayoutModel",
            "_view_count": null,
            "_view_module": "@jupyter-widgets/base",
            "_view_module_version": "1.2.0",
            "_view_name": "LayoutView",
            "align_content": null,
            "align_items": null,
            "align_self": null,
            "border": null,
            "bottom": null,
            "display": null,
            "flex": null,
            "flex_flow": null,
            "grid_area": null,
            "grid_auto_columns": null,
            "grid_auto_flow": null,
            "grid_auto_rows": null,
            "grid_column": null,
            "grid_gap": null,
            "grid_row": null,
            "grid_template_areas": null,
            "grid_template_columns": null,
            "grid_template_rows": null,
            "height": null,
            "justify_content": null,
            "justify_items": null,
            "left": null,
            "margin": null,
            "max_height": null,
            "max_width": null,
            "min_height": null,
            "min_width": null,
            "object_fit": null,
            "object_position": null,
            "order": null,
            "overflow": null,
            "overflow_x": null,
            "overflow_y": null,
            "padding": null,
            "right": null,
            "top": null,
            "visibility": null,
            "width": null
          }
        },
        "b81de09a46f849d28a02654e7093a774": {
          "model_module": "@jupyter-widgets/controls",
          "model_name": "DescriptionStyleModel",
          "model_module_version": "1.5.0",
          "state": {
            "_model_module": "@jupyter-widgets/controls",
            "_model_module_version": "1.5.0",
            "_model_name": "DescriptionStyleModel",
            "_view_count": null,
            "_view_module": "@jupyter-widgets/base",
            "_view_module_version": "1.2.0",
            "_view_name": "StyleView",
            "description_width": ""
          }
        },
        "18be31dcd92a42b7bc1ed46c55bf3871": {
          "model_module": "@jupyter-widgets/base",
          "model_name": "LayoutModel",
          "model_module_version": "1.2.0",
          "state": {
            "_model_module": "@jupyter-widgets/base",
            "_model_module_version": "1.2.0",
            "_model_name": "LayoutModel",
            "_view_count": null,
            "_view_module": "@jupyter-widgets/base",
            "_view_module_version": "1.2.0",
            "_view_name": "LayoutView",
            "align_content": null,
            "align_items": null,
            "align_self": null,
            "border": null,
            "bottom": null,
            "display": null,
            "flex": null,
            "flex_flow": null,
            "grid_area": null,
            "grid_auto_columns": null,
            "grid_auto_flow": null,
            "grid_auto_rows": null,
            "grid_column": null,
            "grid_gap": null,
            "grid_row": null,
            "grid_template_areas": null,
            "grid_template_columns": null,
            "grid_template_rows": null,
            "height": null,
            "justify_content": null,
            "justify_items": null,
            "left": null,
            "margin": null,
            "max_height": null,
            "max_width": null,
            "min_height": null,
            "min_width": null,
            "object_fit": null,
            "object_position": null,
            "order": null,
            "overflow": null,
            "overflow_x": null,
            "overflow_y": null,
            "padding": null,
            "right": null,
            "top": null,
            "visibility": null,
            "width": null
          }
        },
        "78645908e35b4e4686c3c6593bc765ef": {
          "model_module": "@jupyter-widgets/controls",
          "model_name": "ProgressStyleModel",
          "model_module_version": "1.5.0",
          "state": {
            "_model_module": "@jupyter-widgets/controls",
            "_model_module_version": "1.5.0",
            "_model_name": "ProgressStyleModel",
            "_view_count": null,
            "_view_module": "@jupyter-widgets/base",
            "_view_module_version": "1.2.0",
            "_view_name": "StyleView",
            "bar_color": null,
            "description_width": ""
          }
        },
        "12245f13c734423bbd1a5b8f55b0b8fd": {
          "model_module": "@jupyter-widgets/base",
          "model_name": "LayoutModel",
          "model_module_version": "1.2.0",
          "state": {
            "_model_module": "@jupyter-widgets/base",
            "_model_module_version": "1.2.0",
            "_model_name": "LayoutModel",
            "_view_count": null,
            "_view_module": "@jupyter-widgets/base",
            "_view_module_version": "1.2.0",
            "_view_name": "LayoutView",
            "align_content": null,
            "align_items": null,
            "align_self": null,
            "border": null,
            "bottom": null,
            "display": null,
            "flex": null,
            "flex_flow": null,
            "grid_area": null,
            "grid_auto_columns": null,
            "grid_auto_flow": null,
            "grid_auto_rows": null,
            "grid_column": null,
            "grid_gap": null,
            "grid_row": null,
            "grid_template_areas": null,
            "grid_template_columns": null,
            "grid_template_rows": null,
            "height": null,
            "justify_content": null,
            "justify_items": null,
            "left": null,
            "margin": null,
            "max_height": null,
            "max_width": null,
            "min_height": null,
            "min_width": null,
            "object_fit": null,
            "object_position": null,
            "order": null,
            "overflow": null,
            "overflow_x": null,
            "overflow_y": null,
            "padding": null,
            "right": null,
            "top": null,
            "visibility": null,
            "width": null
          }
        },
        "ba789986afd64feba7637942f6219396": {
          "model_module": "@jupyter-widgets/controls",
          "model_name": "DescriptionStyleModel",
          "model_module_version": "1.5.0",
          "state": {
            "_model_module": "@jupyter-widgets/controls",
            "_model_module_version": "1.5.0",
            "_model_name": "DescriptionStyleModel",
            "_view_count": null,
            "_view_module": "@jupyter-widgets/base",
            "_view_module_version": "1.2.0",
            "_view_name": "StyleView",
            "description_width": ""
          }
        },
        "7da5ee6a9ae0488c8c35a96d0a98d942": {
          "model_module": "@jupyter-widgets/controls",
          "model_name": "HBoxModel",
          "model_module_version": "1.5.0",
          "state": {
            "_dom_classes": [],
            "_model_module": "@jupyter-widgets/controls",
            "_model_module_version": "1.5.0",
            "_model_name": "HBoxModel",
            "_view_count": null,
            "_view_module": "@jupyter-widgets/controls",
            "_view_module_version": "1.5.0",
            "_view_name": "HBoxView",
            "box_style": "",
            "children": [
              "IPY_MODEL_37f4e19ba83f472685e22abd40ca0def",
              "IPY_MODEL_cdeae361696e4bd4a01e8f25264916b8",
              "IPY_MODEL_14f8a822eea84e0291720d5e382e19c9"
            ],
            "layout": "IPY_MODEL_6810615fa7aa4d0999938616ff87b41a"
          }
        },
        "37f4e19ba83f472685e22abd40ca0def": {
          "model_module": "@jupyter-widgets/controls",
          "model_name": "HTMLModel",
          "model_module_version": "1.5.0",
          "state": {
            "_dom_classes": [],
            "_model_module": "@jupyter-widgets/controls",
            "_model_module_version": "1.5.0",
            "_model_name": "HTMLModel",
            "_view_count": null,
            "_view_module": "@jupyter-widgets/controls",
            "_view_module_version": "1.5.0",
            "_view_name": "HTMLView",
            "description": "",
            "description_tooltip": null,
            "layout": "IPY_MODEL_479e4880fe604a278ba3ee9c32e6932c",
            "placeholder": "​",
            "style": "IPY_MODEL_3e347385efec4777ad608fbe35745fb9",
            "value": "model.safetensors: 100%"
          }
        },
        "cdeae361696e4bd4a01e8f25264916b8": {
          "model_module": "@jupyter-widgets/controls",
          "model_name": "FloatProgressModel",
          "model_module_version": "1.5.0",
          "state": {
            "_dom_classes": [],
            "_model_module": "@jupyter-widgets/controls",
            "_model_module_version": "1.5.0",
            "_model_name": "FloatProgressModel",
            "_view_count": null,
            "_view_module": "@jupyter-widgets/controls",
            "_view_module_version": "1.5.0",
            "_view_name": "ProgressView",
            "bar_style": "success",
            "description": "",
            "description_tooltip": null,
            "layout": "IPY_MODEL_bd91f5dfd3454a93b5b939824bdcde0c",
            "max": 440449768,
            "min": 0,
            "orientation": "horizontal",
            "style": "IPY_MODEL_8486c1097a92495cb1417c04004e9f8d",
            "value": 440449768
          }
        },
        "14f8a822eea84e0291720d5e382e19c9": {
          "model_module": "@jupyter-widgets/controls",
          "model_name": "HTMLModel",
          "model_module_version": "1.5.0",
          "state": {
            "_dom_classes": [],
            "_model_module": "@jupyter-widgets/controls",
            "_model_module_version": "1.5.0",
            "_model_name": "HTMLModel",
            "_view_count": null,
            "_view_module": "@jupyter-widgets/controls",
            "_view_module_version": "1.5.0",
            "_view_name": "HTMLView",
            "description": "",
            "description_tooltip": null,
            "layout": "IPY_MODEL_01f3eb916172419380eacde5a12abc76",
            "placeholder": "​",
            "style": "IPY_MODEL_30a433e2e5c741e09319d2f67ef80163",
            "value": " 440M/440M [00:02&lt;00:00, 235MB/s]"
          }
        },
        "6810615fa7aa4d0999938616ff87b41a": {
          "model_module": "@jupyter-widgets/base",
          "model_name": "LayoutModel",
          "model_module_version": "1.2.0",
          "state": {
            "_model_module": "@jupyter-widgets/base",
            "_model_module_version": "1.2.0",
            "_model_name": "LayoutModel",
            "_view_count": null,
            "_view_module": "@jupyter-widgets/base",
            "_view_module_version": "1.2.0",
            "_view_name": "LayoutView",
            "align_content": null,
            "align_items": null,
            "align_self": null,
            "border": null,
            "bottom": null,
            "display": null,
            "flex": null,
            "flex_flow": null,
            "grid_area": null,
            "grid_auto_columns": null,
            "grid_auto_flow": null,
            "grid_auto_rows": null,
            "grid_column": null,
            "grid_gap": null,
            "grid_row": null,
            "grid_template_areas": null,
            "grid_template_columns": null,
            "grid_template_rows": null,
            "height": null,
            "justify_content": null,
            "justify_items": null,
            "left": null,
            "margin": null,
            "max_height": null,
            "max_width": null,
            "min_height": null,
            "min_width": null,
            "object_fit": null,
            "object_position": null,
            "order": null,
            "overflow": null,
            "overflow_x": null,
            "overflow_y": null,
            "padding": null,
            "right": null,
            "top": null,
            "visibility": null,
            "width": null
          }
        },
        "479e4880fe604a278ba3ee9c32e6932c": {
          "model_module": "@jupyter-widgets/base",
          "model_name": "LayoutModel",
          "model_module_version": "1.2.0",
          "state": {
            "_model_module": "@jupyter-widgets/base",
            "_model_module_version": "1.2.0",
            "_model_name": "LayoutModel",
            "_view_count": null,
            "_view_module": "@jupyter-widgets/base",
            "_view_module_version": "1.2.0",
            "_view_name": "LayoutView",
            "align_content": null,
            "align_items": null,
            "align_self": null,
            "border": null,
            "bottom": null,
            "display": null,
            "flex": null,
            "flex_flow": null,
            "grid_area": null,
            "grid_auto_columns": null,
            "grid_auto_flow": null,
            "grid_auto_rows": null,
            "grid_column": null,
            "grid_gap": null,
            "grid_row": null,
            "grid_template_areas": null,
            "grid_template_columns": null,
            "grid_template_rows": null,
            "height": null,
            "justify_content": null,
            "justify_items": null,
            "left": null,
            "margin": null,
            "max_height": null,
            "max_width": null,
            "min_height": null,
            "min_width": null,
            "object_fit": null,
            "object_position": null,
            "order": null,
            "overflow": null,
            "overflow_x": null,
            "overflow_y": null,
            "padding": null,
            "right": null,
            "top": null,
            "visibility": null,
            "width": null
          }
        },
        "3e347385efec4777ad608fbe35745fb9": {
          "model_module": "@jupyter-widgets/controls",
          "model_name": "DescriptionStyleModel",
          "model_module_version": "1.5.0",
          "state": {
            "_model_module": "@jupyter-widgets/controls",
            "_model_module_version": "1.5.0",
            "_model_name": "DescriptionStyleModel",
            "_view_count": null,
            "_view_module": "@jupyter-widgets/base",
            "_view_module_version": "1.2.0",
            "_view_name": "StyleView",
            "description_width": ""
          }
        },
        "bd91f5dfd3454a93b5b939824bdcde0c": {
          "model_module": "@jupyter-widgets/base",
          "model_name": "LayoutModel",
          "model_module_version": "1.2.0",
          "state": {
            "_model_module": "@jupyter-widgets/base",
            "_model_module_version": "1.2.0",
            "_model_name": "LayoutModel",
            "_view_count": null,
            "_view_module": "@jupyter-widgets/base",
            "_view_module_version": "1.2.0",
            "_view_name": "LayoutView",
            "align_content": null,
            "align_items": null,
            "align_self": null,
            "border": null,
            "bottom": null,
            "display": null,
            "flex": null,
            "flex_flow": null,
            "grid_area": null,
            "grid_auto_columns": null,
            "grid_auto_flow": null,
            "grid_auto_rows": null,
            "grid_column": null,
            "grid_gap": null,
            "grid_row": null,
            "grid_template_areas": null,
            "grid_template_columns": null,
            "grid_template_rows": null,
            "height": null,
            "justify_content": null,
            "justify_items": null,
            "left": null,
            "margin": null,
            "max_height": null,
            "max_width": null,
            "min_height": null,
            "min_width": null,
            "object_fit": null,
            "object_position": null,
            "order": null,
            "overflow": null,
            "overflow_x": null,
            "overflow_y": null,
            "padding": null,
            "right": null,
            "top": null,
            "visibility": null,
            "width": null
          }
        },
        "8486c1097a92495cb1417c04004e9f8d": {
          "model_module": "@jupyter-widgets/controls",
          "model_name": "ProgressStyleModel",
          "model_module_version": "1.5.0",
          "state": {
            "_model_module": "@jupyter-widgets/controls",
            "_model_module_version": "1.5.0",
            "_model_name": "ProgressStyleModel",
            "_view_count": null,
            "_view_module": "@jupyter-widgets/base",
            "_view_module_version": "1.2.0",
            "_view_name": "StyleView",
            "bar_color": null,
            "description_width": ""
          }
        },
        "01f3eb916172419380eacde5a12abc76": {
          "model_module": "@jupyter-widgets/base",
          "model_name": "LayoutModel",
          "model_module_version": "1.2.0",
          "state": {
            "_model_module": "@jupyter-widgets/base",
            "_model_module_version": "1.2.0",
            "_model_name": "LayoutModel",
            "_view_count": null,
            "_view_module": "@jupyter-widgets/base",
            "_view_module_version": "1.2.0",
            "_view_name": "LayoutView",
            "align_content": null,
            "align_items": null,
            "align_self": null,
            "border": null,
            "bottom": null,
            "display": null,
            "flex": null,
            "flex_flow": null,
            "grid_area": null,
            "grid_auto_columns": null,
            "grid_auto_flow": null,
            "grid_auto_rows": null,
            "grid_column": null,
            "grid_gap": null,
            "grid_row": null,
            "grid_template_areas": null,
            "grid_template_columns": null,
            "grid_template_rows": null,
            "height": null,
            "justify_content": null,
            "justify_items": null,
            "left": null,
            "margin": null,
            "max_height": null,
            "max_width": null,
            "min_height": null,
            "min_width": null,
            "object_fit": null,
            "object_position": null,
            "order": null,
            "overflow": null,
            "overflow_x": null,
            "overflow_y": null,
            "padding": null,
            "right": null,
            "top": null,
            "visibility": null,
            "width": null
          }
        },
        "30a433e2e5c741e09319d2f67ef80163": {
          "model_module": "@jupyter-widgets/controls",
          "model_name": "DescriptionStyleModel",
          "model_module_version": "1.5.0",
          "state": {
            "_model_module": "@jupyter-widgets/controls",
            "_model_module_version": "1.5.0",
            "_model_name": "DescriptionStyleModel",
            "_view_count": null,
            "_view_module": "@jupyter-widgets/base",
            "_view_module_version": "1.2.0",
            "_view_name": "StyleView",
            "description_width": ""
          }
        }
      }
    }
  },
  "cells": [
    {
      "cell_type": "markdown",
      "metadata": {
        "id": "view-in-github",
        "colab_type": "text"
      },
      "source": [
        "<a href=\"https://colab.research.google.com/github/stemgene/All-you-need-is-attention/blob/main/03_bert_model_architecture_params.ipynb\" target=\"_parent\"><img src=\"https://colab.research.google.com/assets/colab-badge.svg\" alt=\"Open In Colab\"/></a>"
      ]
    },
    {
      "cell_type": "markdown",
      "source": [
        "https://www.bilibili.com/video/BV1xT411V7Ng/?spm_id_from=333.788&vd_source=81884c519d60bbdad4b6fd87d340415f"
      ],
      "metadata": {
        "id": "aPh0gw7pNy2k"
      }
    },
    {
      "cell_type": "code",
      "execution_count": 2,
      "metadata": {
        "id": "GJjFy2YyNqkC"
      },
      "outputs": [],
      "source": [
        "from transformers import BertModel, BertForSequenceClassification"
      ]
    },
    {
      "cell_type": "markdown",
      "source": [
        "![image](https://heidloff.net/assets/img/2023/02/transformers.png)"
      ],
      "metadata": {
        "id": "2B8Zqae9UUWR"
      }
    },
    {
      "cell_type": "code",
      "source": [
        "model_name = 'bert-base-uncased'\n",
        "model = BertModel.from_pretrained(model_name)\n",
        "# cls_model = BertForSequenceClassification(model_name)"
      ],
      "metadata": {
        "colab": {
          "base_uri": "https://localhost:8080/",
          "height": 81,
          "referenced_widgets": [
            "97b0f85eb9d24253b0f07bd2dd83eb01",
            "3c563f617aa1459e882ef8fa21ebfa39",
            "f373d57fba2644fa8fb492dd1b260783",
            "9fae302253d0479b98b08999870cb728",
            "6adabe04fd354bbab82d397406e4da3b",
            "1a0d355a04454c9694af96b73a36da69",
            "b81de09a46f849d28a02654e7093a774",
            "18be31dcd92a42b7bc1ed46c55bf3871",
            "78645908e35b4e4686c3c6593bc765ef",
            "12245f13c734423bbd1a5b8f55b0b8fd",
            "ba789986afd64feba7637942f6219396",
            "7da5ee6a9ae0488c8c35a96d0a98d942",
            "37f4e19ba83f472685e22abd40ca0def",
            "cdeae361696e4bd4a01e8f25264916b8",
            "14f8a822eea84e0291720d5e382e19c9",
            "6810615fa7aa4d0999938616ff87b41a",
            "479e4880fe604a278ba3ee9c32e6932c",
            "3e347385efec4777ad608fbe35745fb9",
            "bd91f5dfd3454a93b5b939824bdcde0c",
            "8486c1097a92495cb1417c04004e9f8d",
            "01f3eb916172419380eacde5a12abc76",
            "30a433e2e5c741e09319d2f67ef80163"
          ]
        },
        "id": "SwCrf5kiN5Ph",
        "outputId": "fd708603-b13f-4001-8c90-0d237a43faeb"
      },
      "execution_count": 3,
      "outputs": [
        {
          "output_type": "display_data",
          "data": {
            "text/plain": [
              "config.json:   0%|          | 0.00/570 [00:00<?, ?B/s]"
            ],
            "application/vnd.jupyter.widget-view+json": {
              "version_major": 2,
              "version_minor": 0,
              "model_id": "97b0f85eb9d24253b0f07bd2dd83eb01"
            }
          },
          "metadata": {}
        },
        {
          "output_type": "display_data",
          "data": {
            "text/plain": [
              "model.safetensors:   0%|          | 0.00/440M [00:00<?, ?B/s]"
            ],
            "application/vnd.jupyter.widget-view+json": {
              "version_major": 2,
              "version_minor": 0,
              "model_id": "7da5ee6a9ae0488c8c35a96d0a98d942"
            }
          },
          "metadata": {}
        }
      ]
    },
    {
      "cell_type": "markdown",
      "source": [
        "`bert-base-uncased`模型结构：\n",
        "* Embedding: BertEmbeddings\n",
        "    1. word_embeddings\n",
        "    2. position_embeddings\n",
        "    3. token_type_embeddings\n",
        "    4. LayerNorm\n",
        "    5. dropout\n",
        "* encoder: BertEncoder\n",
        "    1. layer 0\n",
        "    2. ...\n",
        "    10. layer 11\n",
        "* pooler: BertPooler\n",
        "    1. dense: Linear(in_feature=768, out_featuers=768)\n",
        "    2. activation: Tanh()\n",
        "这个模型结构是最基础的，并没有接head\n",
        "\n",
        "`BertForSequenceClassification`的模型在上面的基础上添加了最后一层classifier，如\n",
        "`(classifier): Linear(in_features=768, out_features=2)`\n"
      ],
      "metadata": {
        "id": "cZqf1AAsOp0b"
      }
    },
    {
      "cell_type": "markdown",
      "source": [
        "### 模型的summary\n",
        "\n",
        "* bert: encoder of transformer 仅是transfomer的encoder部分。transformer是encoder-decoder(seq2seq)模型\n",
        "* 从`BertForSequenceClassification`可以看出，在bert模型的基础上接上一个classifier就可以做分类，以此类推，可以在bert基础上接上自定义的模型进行fine tune\n",
        "* bert三部分：\n",
        "    * embedding (word, position, segment_type(token_type)),\n",
        "    * encoder (12 layer) (Bert base是12layer，Bert Large是24layer)\n",
        "        * self attention (kqv)\n",
        "        * feed forward\n",
        "    * pooler\n",
        "\n",
        "![img](https://www.researchgate.net/publication/359301499/figure/fig1/AS:1134827726213121@1647575422725/The-overall-structure-of-the-BERT-model.png)\n",
        "\n"
      ],
      "metadata": {
        "id": "aN9hEdWoStta"
      }
    },
    {
      "cell_type": "markdown",
      "source": [
        "# 参数量统计"
      ],
      "metadata": {
        "id": "Q0pStiliSMju"
      }
    },
    {
      "cell_type": "code",
      "source": [
        "next(model.named_parameters())[0]"
      ],
      "metadata": {
        "colab": {
          "base_uri": "https://localhost:8080/",
          "height": 35
        },
        "id": "WNMx4B81U5aq",
        "outputId": "31b585e8-3495-441c-afcd-89014dedd97d"
      },
      "execution_count": 4,
      "outputs": [
        {
          "output_type": "execute_result",
          "data": {
            "text/plain": [
              "'embeddings.word_embeddings.weight'"
            ],
            "application/vnd.google.colaboratory.intrinsic+json": {
              "type": "string"
            }
          },
          "metadata": {},
          "execution_count": 4
        }
      ]
    },
    {
      "cell_type": "code",
      "source": [
        "next(model.named_parameters())[1].shape"
      ],
      "metadata": {
        "colab": {
          "base_uri": "https://localhost:8080/"
        },
        "id": "W4zU6YzfVkiz",
        "outputId": "ff1472b6-1a5d-4073-dc3e-5c21fedd17c6"
      },
      "execution_count": 5,
      "outputs": [
        {
          "output_type": "execute_result",
          "data": {
            "text/plain": [
              "torch.Size([30522, 768])"
            ]
          },
          "metadata": {},
          "execution_count": 5
        }
      ]
    },
    {
      "cell_type": "markdown",
      "source": [
        "可以看到针对word embedding层，所有的vocabular是30522，每一个word对应的维度是768维"
      ],
      "metadata": {
        "id": "kQy6Sk3PUhT4"
      }
    },
    {
      "cell_type": "code",
      "source": [
        "total_params = 0\n",
        "total_learnable_params = 0\n",
        "for name, param in model.named_parameters():\n",
        "    if param.requires_grad: # 支持梯度更新表示可学习\n",
        "        total_learnable_params += param.numel()  # param.numel() 表示元素elment的数量，其实就是各个维度的size相乘，如embedding层的30522*768\n",
        "    total_params += param.numel() # 所有参数\n",
        "\n",
        "print(f\"total parameters is {total_params / 1e8}, learnable parameters is {total_learnable_params / 1e8}\")"
      ],
      "metadata": {
        "colab": {
          "base_uri": "https://localhost:8080/"
        },
        "id": "e5Bn18BtSwWF",
        "outputId": "86f12ad0-7330-4fc4-d44c-bab91c648d0f"
      },
      "execution_count": 6,
      "outputs": [
        {
          "output_type": "stream",
          "name": "stdout",
          "text": [
            "total parameters is 1.0948224, learnable parameters is 1.0948224\n"
          ]
        }
      ]
    },
    {
      "cell_type": "markdown",
      "source": [
        "这个模型中所有的参数都是可调的，1亿参数量"
      ],
      "metadata": {
        "id": "dYE74rysXcF3"
      }
    },
    {
      "cell_type": "markdown",
      "source": [
        "## Embedding，encoder和pooler这三个模块参数量的占比"
      ],
      "metadata": {
        "id": "LFiBDehwYFpN"
      }
    },
    {
      "cell_type": "code",
      "source": [
        "total_params = 0\n",
        "total_embedding_params = 0\n",
        "total_encoder_params = 0\n",
        "total_pooler_params = 0\n",
        "for name, param in model.named_parameters():\n",
        "    if 'embedding' in name: # 支持梯度更新表示可学习\n",
        "        total_embedding_params += param.numel()  # param.numel() 表示元素elment的数量，其实就是各个维度的size相乘，如embedding层的30522*768\n",
        "    if 'encoder' in name:\n",
        "        total_encoder_params += param.numel()\n",
        "    if 'pooler' in name:\n",
        "        total_encoder_params += param.numel()\n",
        "    total_params += param.numel() # 所有参数"
      ],
      "metadata": {
        "id": "IE28lBxPS3Qj"
      },
      "execution_count": 7,
      "outputs": []
    },
    {
      "cell_type": "code",
      "source": [
        "print(f\"embedding parameters is {total_embedding_params / 1e8}, encoder parameters is {total_encoder_params / 1e8}, pooler is {total_pooler_params / 1e8}\")"
      ],
      "metadata": {
        "colab": {
          "base_uri": "https://localhost:8080/"
        },
        "id": "Or7EaIHpvsUo",
        "outputId": "fd316ec5-e8bf-4045-f68f-205d627339b6"
      },
      "execution_count": 8,
      "outputs": [
        {
          "output_type": "stream",
          "name": "stdout",
          "text": [
            "embedding parameters is 0.23837184, encoder parameters is 0.85645056, pooler is 0.0\n"
          ]
        }
      ]
    },
    {
      "cell_type": "code",
      "source": [
        "print(f\"Ratio: embedding parameters is {total_embedding_params / total_params}, encoder parameters is {total_encoder_params / total_params}, pooler is {total_pooler_params / total_params}\")"
      ],
      "metadata": {
        "colab": {
          "base_uri": "https://localhost:8080/"
        },
        "id": "AcroKc8Kv6dL",
        "outputId": "c4406f4b-9a5a-4524-b1c4-11b512108420"
      },
      "execution_count": 9,
      "outputs": [
        {
          "output_type": "stream",
          "name": "stdout",
          "text": [
            "Ratio: embedding parameters is 0.21772649152958506, encoder parameters is 0.7822735084704149, pooler is 0.0\n"
          ]
        }
      ]
    },
    {
      "cell_type": "code",
      "source": [],
      "metadata": {
        "id": "Tylt0kKPwiJ6"
      },
      "execution_count": null,
      "outputs": []
    }
  ]
}
